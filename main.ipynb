{
 "cells": [
  {
   "cell_type": "code",
   "execution_count": 2,
   "id": "487547ca",
   "metadata": {},
   "outputs": [],
   "source": [
    "import sqlite3"
   ]
  },
  {
   "cell_type": "code",
   "execution_count": 3,
   "id": "bffe28a4",
   "metadata": {},
   "outputs": [],
   "source": [
    "import sqlite3\n",
    "def setup_database(db_name):\n",
    "    \"\"\"Sets up a SQLite database with a sample table and data.\"\"\"\n",
    "    conn = sqlite3.connect(db_name)\n",
    "    cursor = conn.cursor()\n",
    "    \n",
    "    # Create a sample table\n",
    "    cursor.execute('''\n",
    "        CREATE TABLE IF NOT EXISTS students (\n",
    "            id INTEGER PRIMARY KEY,\n",
    "            name TEXT NOT NULL,\n",
    "            age INTEGER NOT NULL,\n",
    "            course_id INTEGER\n",
    "        )\n",
    "    ''')\n",
    "    cursor.execute(''' CREATE TABLE IF NOT EXISTS course (\n",
    "            id INTEGER PRIMARY KEY,\n",
    "            name TEXT NOT NULL\n",
    "        ) ''')\n",
    "    conn.commit()\n",
    "    conn.close()"
   ]
  },
  {
   "cell_type": "code",
   "execution_count": 4,
   "id": "96424128",
   "metadata": {},
   "outputs": [],
   "source": [
    "setup_database(\"Students.db\")"
   ]
  },
  {
   "cell_type": "code",
   "execution_count": 5,
   "id": "9db7345d",
   "metadata": {},
   "outputs": [],
   "source": [
    "def insert_sample_data(db_name):\n",
    "    \"\"\"Inserts sample data into the students and course tables.\"\"\"\n",
    "    conn = sqlite3.connect(db_name)\n",
    "    cursor = conn.cursor()\n",
    "    \n",
    "    # Insert sample courses\n",
    "    courses = [\n",
    "        (1, 'Mathematics'),\n",
    "        (2, 'Physics'),\n",
    "        (3, 'Chemistry')\n",
    "    ]\n",
    "    cursor.executemany('INSERT INTO course (id, name) VALUES (?, ?)', courses)\n",
    "    \n",
    "    # Insert sample students\n",
    "    students = [\n",
    "        (1, 'Alice', 20, 1),\n",
    "        (2, 'Bob', 22, 2),\n",
    "        (3, 'Charlie', 23, 3),\n",
    "        (4, 'David', 21, 1),\n",
    "        (5, 'Eve', 20, 2),\n",
    "        (6, 'Frank', 24, 3),\n",
    "        (7, 'Grace', 22, 1),\n",
    "        (8, 'Heidi', 23, 2),\n",
    "        (9, 'Ivan', 21, 3),\n",
    "        (10, 'Judy', 20, 1),\n",
    "        (11, 'Mallory', 22, 2),\n",
    "        (12, 'Niaj', 23, 3),\n",
    "        (13, 'Olivia', 21, 1),\n",
    "        (14, 'Peggy', 20, 2),\n",
    "        (15, 'Sybil', 24, 3)\n",
    "    ]\n",
    "    cursor.executemany('INSERT INTO students (id, name, age, course_id) VALUES (?, ?, ?, ?)', students)\n",
    "    \n",
    "    conn.commit()\n",
    "    conn.close()"
   ]
  },
  {
   "cell_type": "code",
   "execution_count": 6,
   "id": "5f77b78f",
   "metadata": {},
   "outputs": [],
   "source": [
    "insert_sample_data(\"Students.db\")"
   ]
  },
  {
   "cell_type": "code",
   "execution_count": null,
   "id": "8709948d",
   "metadata": {},
   "outputs": [],
   "source": [
    "! pip install langchain-google-genai\n"
   ]
  },
  {
   "cell_type": "code",
   "execution_count": null,
   "id": "ec7ca439",
   "metadata": {},
   "outputs": [],
   "source": [
    "! pip install -U langchain langchain-community langchain-core langchain-google-genai\n"
   ]
  },
  {
   "cell_type": "code",
   "execution_count": null,
   "id": "b8671fd2",
   "metadata": {},
   "outputs": [],
   "source": [
    "! pip show langchain-community\n"
   ]
  },
  {
   "cell_type": "code",
   "execution_count": 10,
   "id": "608381da",
   "metadata": {},
   "outputs": [
    {
     "name": "stderr",
     "output_type": "stream",
     "text": [
      "c:\\Users\\aqibr\\AppData\\Local\\Programs\\Python\\Python313\\Lib\\site-packages\\tqdm\\auto.py:21: TqdmWarning: IProgress not found. Please update jupyter and ipywidgets. See https://ipywidgets.readthedocs.io/en/stable/user_install.html\n",
      "  from .autonotebook import tqdm as notebook_tqdm\n"
     ]
    }
   ],
   "source": [
    "from langchain_community.utilities.sql_database import SQLDatabase\n",
    "from langchain_community.agent_toolkits.sql.base import create_sql_agent\n",
    "from langchain_google_genai import GoogleGenerativeAI  "
   ]
  },
  {
   "cell_type": "code",
   "execution_count": 3,
   "id": "9a5b7c2f",
   "metadata": {},
   "outputs": [],
   "source": [
    "# ! pip install -U \"langchain>=0.2.22\" \"langchain-core>=0.2.22\" \"langchain-google-genai>=1.0.8\"\n",
    "\n"
   ]
  },
  {
   "cell_type": "code",
   "execution_count": 11,
   "id": "6c4feb71",
   "metadata": {},
   "outputs": [],
   "source": [
    "from config import gemini\n",
    "from langchain_google_genai import GoogleGenerativeAI\n",
    "\n",
    "\n",
    "gemini_api_key = gemini()"
   ]
  },
  {
   "cell_type": "code",
   "execution_count": 12,
   "id": "b8299d22",
   "metadata": {},
   "outputs": [],
   "source": [
    "import sqlite3"
   ]
  },
  {
   "cell_type": "code",
   "execution_count": 19,
   "id": "0538e877",
   "metadata": {},
   "outputs": [],
   "source": [
    "DBName= \"shopping_behavior.db\"\n",
    "try:\n",
    "    db = SQLDatabase.from_uri(f\"sqlite:///{DBName}\")\n",
    "except Exception as e:\n",
    "    print(e)"
   ]
  },
  {
   "cell_type": "code",
   "execution_count": 20,
   "id": "bd316acb",
   "metadata": {},
   "outputs": [],
   "source": [
    "llm = GoogleGenerativeAI(model=\"gemini-2.5-flash\", google_api_key=gemini_api_key, temperature=0.2)"
   ]
  },
  {
   "cell_type": "code",
   "execution_count": 21,
   "id": "5503dafc",
   "metadata": {},
   "outputs": [
    {
     "data": {
      "text/plain": [
       "'Hello! How can I help you today?'"
      ]
     },
     "execution_count": 21,
     "metadata": {},
     "output_type": "execute_result"
    }
   ],
   "source": [
    "llm.invoke(\"hello\")"
   ]
  },
  {
   "cell_type": "code",
   "execution_count": 30,
   "id": "6c037301",
   "metadata": {},
   "outputs": [],
   "source": [
    "agent = create_sql_agent(\n",
    "    llm = llm , \n",
    "    db = db , \n",
    "    agent_type=\"zero-shot-react-description\",\n",
    "    verbose=True,\n",
    "    handle_parsing_errors=True \n",
    ")"
   ]
  },
  {
   "cell_type": "code",
   "execution_count": 31,
   "id": "9bea3bd5",
   "metadata": {},
   "outputs": [],
   "source": [
    "def chat(question):\n",
    "    response = agent.invoke(question)\n",
    "    return response\n"
   ]
  },
  {
   "cell_type": "code",
   "execution_count": 45,
   "id": "3916e73d",
   "metadata": {},
   "outputs": [
    {
     "name": "stdout",
     "output_type": "stream",
     "text": [
      "\n",
      "\n",
      "\u001b[1m> Entering new SQL Agent Executor chain...\u001b[0m\n",
      "\u001b[32;1m\u001b[1;3mAction: sql_db_list_tables\n",
      "Action Input:\u001b[0m\u001b[38;5;200m\u001b[1;3mshopping_behavior\u001b[0m\u001b[32;1m\u001b[1;3mAction: sql_db_schema\n",
      "Action Input: shopping_behavior\u001b[0m\u001b[33;1m\u001b[1;3m\n",
      "CREATE TABLE shopping_behavior (\n",
      "\t\"Customer ID\" INTEGER, \n",
      "\t\"Age\" INTEGER, \n",
      "\t\"Gender\" TEXT, \n",
      "\t\"Item Purchased\" TEXT, \n",
      "\t\"Category\" TEXT, \n",
      "\t\"Purchase Amount (USD)\" INTEGER, \n",
      "\t\"Location\" TEXT, \n",
      "\t\"Size\" TEXT, \n",
      "\t\"Color\" TEXT, \n",
      "\t\"Season\" TEXT, \n",
      "\t\"Review Rating\" REAL, \n",
      "\t\"Subscription Status\" TEXT, \n",
      "\t\"Shipping Type\" TEXT, \n",
      "\t\"Discount Applied\" TEXT, \n",
      "\t\"Promo Code Used\" TEXT, \n",
      "\t\"Previous Purchases\" INTEGER, \n",
      "\t\"Payment Method\" TEXT, \n",
      "\t\"Frequency of Purchases\" TEXT\n",
      ")\n",
      "\n",
      "/*\n",
      "3 rows from shopping_behavior table:\n",
      "Customer ID\tAge\tGender\tItem Purchased\tCategory\tPurchase Amount (USD)\tLocation\tSize\tColor\tSeason\tReview Rating\tSubscription Status\tShipping Type\tDiscount Applied\tPromo Code Used\tPrevious Purchases\tPayment Method\tFrequency of Purchases\n",
      "1\t55\tMale\tBlouse\tClothing\t53\tKentucky\tL\tGray\tWinter\t3.1\tYes\tExpress\tYes\tYes\t14\tVenmo\tFortnightly\n",
      "2\t19\tMale\tSweater\tClothing\t64\tMaine\tL\tMaroon\tWinter\t3.1\tYes\tExpress\tYes\tYes\t2\tCash\tFortnightly\n",
      "3\t50\tMale\tJeans\tClothing\t73\tMassachusetts\tS\tMaroon\tSpring\t3.1\tYes\tFree Shipping\tYes\tYes\t23\tCredit Card\tWeekly\n",
      "*/\u001b[0m\u001b[32;1m\u001b[1;3mAction: sql_db_query_checker\n",
      "Action Input: SELECT Gender, COUNT(*) AS Count FROM shopping_behavior GROUP BY Gender ORDER BY Count DESC;\u001b[0m\u001b[36;1m\u001b[1;3m```sql\n",
      "SELECT Gender, COUNT(*) AS Count FROM shopping_behavior GROUP BY Gender ORDER BY Count DESC;\n",
      "```\u001b[0m\u001b[32;1m\u001b[1;3mThought: The user is asking to compare the number of males and females. The `shopping_behavior` table has a 'Gender' column. I can count the occurrences of each gender and order them in descending order to see which one has more.\n",
      "Action: sql_db_query\n",
      "Action Input: SELECT Gender, COUNT(*) AS Count FROM shopping_behavior GROUP BY Gender ORDER BY Count DESC;\u001b[0m\u001b[36;1m\u001b[1;3m[('Male', 2652), ('Female', 1248)]\u001b[0m\u001b[32;1m\u001b[1;3mThought: The query results show that there are 2652 males and 1248 females. Therefore, there are more males than females.\n",
      "Final Answer: There are more males (2652) than females (1248).\u001b[0m\n",
      "\n",
      "\u001b[1m> Finished chain.\u001b[0m\n"
     ]
    },
    {
     "data": {
      "text/plain": [
       "{'input': 'ziada males hain ya females.',\n",
       " 'output': 'There are more males (2652) than females (1248).'}"
      ]
     },
     "execution_count": 45,
     "metadata": {},
     "output_type": "execute_result"
    }
   ],
   "source": [
    "chat(\"ziada males hain ya females.\")"
   ]
  }
 ],
 "metadata": {
  "kernelspec": {
   "display_name": "Python 3",
   "language": "python",
   "name": "python3"
  },
  "language_info": {
   "codemirror_mode": {
    "name": "ipython",
    "version": 3
   },
   "file_extension": ".py",
   "mimetype": "text/x-python",
   "name": "python",
   "nbconvert_exporter": "python",
   "pygments_lexer": "ipython3",
   "version": "3.13.7"
  }
 },
 "nbformat": 4,
 "nbformat_minor": 5
}
